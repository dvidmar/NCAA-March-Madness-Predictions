{
 "cells": [
  {
   "cell_type": "markdown",
   "metadata": {
    "collapsed": true
   },
   "source": [
    "## Looking at game scores.\n",
    "\n",
    "Let's try looking at the scores of the games, and build a regression from those.  We start by loading the data into a dataframe, as in the NCAA Logistic Regression notebook."
   ]
  },
  {
   "cell_type": "code",
   "execution_count": 30,
   "metadata": {},
   "outputs": [
    {
     "data": {
      "text/html": [
       "<div>\n",
       "<style>\n",
       "    .dataframe thead tr:only-child th {\n",
       "        text-align: right;\n",
       "    }\n",
       "\n",
       "    .dataframe thead th {\n",
       "        text-align: left;\n",
       "    }\n",
       "\n",
       "    .dataframe tbody tr th {\n",
       "        vertical-align: top;\n",
       "    }\n",
       "</style>\n",
       "<table border=\"1\" class=\"dataframe\">\n",
       "  <thead>\n",
       "    <tr style=\"text-align: right;\">\n",
       "      <th></th>\n",
       "      <th>Season</th>\n",
       "      <th>WTeamID</th>\n",
       "      <th>WScore</th>\n",
       "      <th>LTeamID</th>\n",
       "      <th>LScore</th>\n",
       "      <th>WSeed</th>\n",
       "      <th>LSeed</th>\n",
       "      <th>SeedDelta</th>\n",
       "    </tr>\n",
       "  </thead>\n",
       "  <tbody>\n",
       "    <tr>\n",
       "      <th>2112</th>\n",
       "      <td>2017</td>\n",
       "      <td>1314</td>\n",
       "      <td>75</td>\n",
       "      <td>1246</td>\n",
       "      <td>73</td>\n",
       "      <td>1</td>\n",
       "      <td>2</td>\n",
       "      <td>-1</td>\n",
       "    </tr>\n",
       "    <tr>\n",
       "      <th>2113</th>\n",
       "      <td>2017</td>\n",
       "      <td>1376</td>\n",
       "      <td>77</td>\n",
       "      <td>1196</td>\n",
       "      <td>70</td>\n",
       "      <td>7</td>\n",
       "      <td>4</td>\n",
       "      <td>3</td>\n",
       "    </tr>\n",
       "    <tr>\n",
       "      <th>2114</th>\n",
       "      <td>2017</td>\n",
       "      <td>1211</td>\n",
       "      <td>77</td>\n",
       "      <td>1376</td>\n",
       "      <td>73</td>\n",
       "      <td>1</td>\n",
       "      <td>7</td>\n",
       "      <td>-6</td>\n",
       "    </tr>\n",
       "    <tr>\n",
       "      <th>2115</th>\n",
       "      <td>2017</td>\n",
       "      <td>1314</td>\n",
       "      <td>77</td>\n",
       "      <td>1332</td>\n",
       "      <td>76</td>\n",
       "      <td>1</td>\n",
       "      <td>3</td>\n",
       "      <td>-2</td>\n",
       "    </tr>\n",
       "    <tr>\n",
       "      <th>2116</th>\n",
       "      <td>2017</td>\n",
       "      <td>1314</td>\n",
       "      <td>71</td>\n",
       "      <td>1211</td>\n",
       "      <td>65</td>\n",
       "      <td>1</td>\n",
       "      <td>1</td>\n",
       "      <td>0</td>\n",
       "    </tr>\n",
       "  </tbody>\n",
       "</table>\n",
       "</div>"
      ],
      "text/plain": [
       "      Season  WTeamID  WScore  LTeamID  LScore  WSeed  LSeed  SeedDelta\n",
       "2112    2017     1314      75     1246      73      1      2         -1\n",
       "2113    2017     1376      77     1196      70      7      4          3\n",
       "2114    2017     1211      77     1376      73      1      7         -6\n",
       "2115    2017     1314      77     1332      76      1      3         -2\n",
       "2116    2017     1314      71     1211      65      1      1          0"
      ]
     },
     "execution_count": 30,
     "metadata": {},
     "output_type": "execute_result"
    }
   ],
   "source": [
    "import matplotlib.pyplot as plt\n",
    "import numpy as np\n",
    "import pandas as pd\n",
    "\n",
    "import sklearn\n",
    "from sklearn.linear_model import LogisticRegression\n",
    "from sklearn.svm import SVR\n",
    "from sklearn.utils import shuffle\n",
    "\n",
    "%matplotlib inline\n",
    "\n",
    "# Load in the data\n",
    "game_results = pd.read_csv('Data/NCAATourneyCompactResults.csv')[['Season','WTeamID','WScore','LTeamID','LScore']]\n",
    "team_seeds = pd.read_csv('Data/NCAATourneySeeds.csv')\n",
    "\n",
    "game_results.head()\n",
    "\n",
    "team_seeds.head()\n",
    "\n",
    "# Convert seed to numeric value.\n",
    "seed_to_int = lambda x: int(''.join([s for s in x if not s.isalpha()]))\n",
    "team_seeds['Seed'] = team_seeds['Seed'].apply(seed_to_int)\n",
    "\n",
    "team_seeds.head()\n",
    "\n",
    "# Merge these into a single dataframe\n",
    "win_seeds = team_seeds.rename(columns={'TeamID':'WTeamID', 'Seed':'WSeed'})\n",
    "loss_seeds = team_seeds.rename(columns={'TeamID':'LTeamID', 'Seed':'LSeed'})\n",
    "\n",
    "merge_win = pd.merge(left=game_results,right=win_seeds,how='left',on=['Season','WTeamID'])\n",
    "df = pd.merge(left=merge_win,right=loss_seeds,on=['Season','LTeamID'])\n",
    "df['SeedDelta'] = df['WSeed'] - df['LSeed']\n",
    "\n",
    "df.tail()"
   ]
  },
  {
   "cell_type": "markdown",
   "metadata": {},
   "source": [
    "Now we can create a dataframe of seeds and scores."
   ]
  },
  {
   "cell_type": "code",
   "execution_count": 31,
   "metadata": {},
   "outputs": [
    {
     "data": {
      "text/html": [
       "<div>\n",
       "<style>\n",
       "    .dataframe thead tr:only-child th {\n",
       "        text-align: right;\n",
       "    }\n",
       "\n",
       "    .dataframe thead th {\n",
       "        text-align: left;\n",
       "    }\n",
       "\n",
       "    .dataframe tbody tr th {\n",
       "        vertical-align: top;\n",
       "    }\n",
       "</style>\n",
       "<table border=\"1\" class=\"dataframe\">\n",
       "  <thead>\n",
       "    <tr style=\"text-align: right;\">\n",
       "      <th></th>\n",
       "      <th>TeamSeed</th>\n",
       "      <th>OppSeed</th>\n",
       "      <th>Score</th>\n",
       "    </tr>\n",
       "  </thead>\n",
       "  <tbody>\n",
       "    <tr>\n",
       "      <th>0</th>\n",
       "      <td>9</td>\n",
       "      <td>8</td>\n",
       "      <td>63</td>\n",
       "    </tr>\n",
       "    <tr>\n",
       "      <th>1</th>\n",
       "      <td>11</td>\n",
       "      <td>6</td>\n",
       "      <td>59</td>\n",
       "    </tr>\n",
       "    <tr>\n",
       "      <th>2</th>\n",
       "      <td>1</td>\n",
       "      <td>16</td>\n",
       "      <td>68</td>\n",
       "    </tr>\n",
       "    <tr>\n",
       "      <th>3</th>\n",
       "      <td>9</td>\n",
       "      <td>8</td>\n",
       "      <td>58</td>\n",
       "    </tr>\n",
       "    <tr>\n",
       "      <th>4</th>\n",
       "      <td>3</td>\n",
       "      <td>14</td>\n",
       "      <td>49</td>\n",
       "    </tr>\n",
       "  </tbody>\n",
       "</table>\n",
       "</div>"
      ],
      "text/plain": [
       "   TeamSeed  OppSeed  Score\n",
       "0         9        8     63\n",
       "1        11        6     59\n",
       "2         1       16     68\n",
       "3         9        8     58\n",
       "4         3       14     49"
      ]
     },
     "execution_count": 31,
     "metadata": {},
     "output_type": "execute_result"
    }
   ],
   "source": [
    "win_scores = df[['WSeed','LSeed','WScore']].rename(columns={'WSeed':'TeamSeed', 'LSeed':'OppSeed','WScore':'Score'})\n",
    "loss_scores = df[['LSeed','WSeed','LScore']].rename(columns={'LSeed':'TeamSeed', 'WSeed':'OppSeed','LScore':'Score'})\n",
    "\n",
    "scores_df = pd.concat([win_scores,loss_scores])\n",
    "scores_df.head()"
   ]
  },
  {
   "cell_type": "markdown",
   "metadata": {},
   "source": [
    "We can plot the mean score a team will record given their seed.  We can also record the mean score a team will record given their opponent's seed."
   ]
  },
  {
   "cell_type": "code",
   "execution_count": 32,
   "metadata": {},
   "outputs": [
    {
     "data": {
      "text/plain": [
       "Text(0,0.5,'Mean Score')"
      ]
     },
     "execution_count": 32,
     "metadata": {},
     "output_type": "execute_result"
    },
    {
     "data": {
      "image/png": "[encoded data removed]",
      "text/plain": [
       "<matplotlib.figure.Figure at 0xeca2630>"
      ]
     },
     "metadata": {},
     "output_type": "display_data"
    }
   ],
   "source": [
    "mean_team_score = []\n",
    "for sd in range(1,17):\n",
    "    mean_team_score.append(np.mean(scores_df[scores_df['TeamSeed']==sd]['Score'].values))\n",
    "    \n",
    "mean_opp_score = []\n",
    "for sd in range(1,17):\n",
    "    mean_opp_score.append(np.mean(scores_df[scores_df['OppSeed']==sd]['Score'].values))\n",
    "\n",
    "plt.plot(range(1,17),mean_opp_score,'o')\n",
    "plt.plot(range(1,17),mean_team_score,'ro')\n",
    "plt.xlabel('Seed')\n",
    "plt.ylabel('Mean Score')"
   ]
  },
  {
   "cell_type": "markdown",
   "metadata": {},
   "source": [
    "Ok, makes sense - the better your seed, the more points you tend to score and the better your opponents seed the fewer points you tend to score.\n",
    "\n",
    "Perhaps we can create a regression model to predict your score given your seed and your opponent's seed.  This can be combined with a logistic regression that classifies win/loss from points scored to predict win/loss from your seed and your opponents seed.\n",
    "\n",
    "Let's try using support vector regression for this."
   ]
  },
  {
   "cell_type": "code",
   "execution_count": 33,
   "metadata": {},
   "outputs": [
    {
     "data": {
      "text/plain": [
       "SVR(C=100, cache_size=200, coef0=0.0, degree=3, epsilon=0.1, gamma=1.0,\n",
       "  kernel='rbf', max_iter=-1, shrinking=True, tol=0.001, verbose=False)"
      ]
     },
     "execution_count": 33,
     "metadata": {},
     "output_type": "execute_result"
    }
   ],
   "source": [
    "x_train = np.vstack([scores_df['TeamSeed'],scores_df['OppSeed']]).T\n",
    "\n",
    "svr_reg = SVR(kernel='rbf', C=100, gamma=1.0) #guess the hyper-parameters for now\n",
    "svr_reg.fit(x_train,scores_df['Score'].values)\n"
   ]
  },
  {
   "cell_type": "markdown",
   "metadata": {},
   "source": [
    "We can plot the predictions across all possible permuations of (seed_i,seed_j) in a 3d scatter plot.  "
   ]
  },
  {
   "cell_type": "code",
   "execution_count": 34,
   "metadata": {},
   "outputs": [
    {
     "data": {
      "text/plain": [
       "Text(0.5,0,'Score')"
      ]
     },
     "execution_count": 34,
     "metadata": {},
     "output_type": "execute_result"
    },
    {
     "data": {
      "image/png": "[encoded data removed]",
      "text/plain": [
       "<matplotlib.figure.Figure at 0xecbed30>"
      ]
     },
     "metadata": {},
     "output_type": "display_data"
    }
   ],
   "source": [
    "from mpl_toolkits.mplot3d import Axes3D\n",
    "x,y=np.meshgrid(range(1,17),range(1,17))\n",
    "xy = list(zip(x.flatten(),y.flatten()))\n",
    "\n",
    "fig=plt.figure()\n",
    "ax = fig.add_subplot(111, projection='3d')\n",
    "ax.scatter(x.flatten(),y.flatten(),svr_reg.predict(xy))\n",
    "ax.set_xlabel('Team Seed')\n",
    "ax.set_ylabel('Opponent Seed')\n",
    "ax.set_zlabel('Score')"
   ]
  },
  {
   "cell_type": "markdown",
   "metadata": {},
   "source": [
    "Not great, we expect a relatively smooth surface but instead we see clear overfitting here.  We can use a grid search to optimize this based off of cross validations."
   ]
  },
  {
   "cell_type": "code",
   "execution_count": 35,
   "metadata": {},
   "outputs": [
    {
     "name": "stdout",
     "output_type": "stream",
     "text": [
      "Best log_loss: -0.2827, with best C: 100.0 and best gamma: 0.01\n"
     ]
    }
   ],
   "source": [
    "from sklearn.model_selection import GridSearchCV\n",
    "params = {'C':np.logspace(0,4,5),'gamma':np.logspace(-4,0,5)}\n",
    "\n",
    "svr_reg = GridSearchCV(SVR(kernel='rbf',gamma=0.1), param_grid=params)\n",
    "svr_reg.fit(x_train,scores_df['Score'].values)\n",
    "\n",
    "print('Best log_loss: {:.4}, with best C: {} and best gamma: {}'.format(svr_reg.best_score_, svr_reg.best_params_['C'],svr_reg.best_params_['gamma']))"
   ]
  },
  {
   "cell_type": "markdown",
   "metadata": {},
   "source": [
    "Ok we get much different parameters from this search.  Let's see what that looks like:"
   ]
  },
  {
   "cell_type": "code",
   "execution_count": 36,
   "metadata": {},
   "outputs": [
    {
     "data": {
      "text/plain": [
       "Text(0.5,0,'Score')"
      ]
     },
     "execution_count": 36,
     "metadata": {},
     "output_type": "execute_result"
    },
    {
     "data": {
      "image/png": "[encoded data removed]",
      "text/plain": [
       "<matplotlib.figure.Figure at 0xd1d5b00>"
      ]
     },
     "metadata": {},
     "output_type": "display_data"
    }
   ],
   "source": [
    "fig=plt.figure()\n",
    "ax = fig.add_subplot(111, projection='3d')\n",
    "ax.scatter(x.flatten(),y.flatten(),svr_reg.predict(xy))\n",
    "ax.set_xlabel('Team Seed')\n",
    "ax.set_ylabel('Opponent Seed')\n",
    "ax.set_zlabel('Score')"
   ]
  },
  {
   "cell_type": "markdown",
   "metadata": {},
   "source": [
    "Much better.  We'll stick with this model."
   ]
  },
  {
   "cell_type": "markdown",
   "metadata": {},
   "source": [
    "## Creating a logistic regression of scores\n",
    "\n",
    "We now need a logistic regression to classify win/loss based off of score."
   ]
  },
  {
   "cell_type": "code",
   "execution_count": 37,
   "metadata": {},
   "outputs": [
    {
     "data": {
      "text/html": [
       "<div>\n",
       "<style>\n",
       "    .dataframe thead tr:only-child th {\n",
       "        text-align: right;\n",
       "    }\n",
       "\n",
       "    .dataframe thead th {\n",
       "        text-align: left;\n",
       "    }\n",
       "\n",
       "    .dataframe tbody tr th {\n",
       "        vertical-align: top;\n",
       "    }\n",
       "</style>\n",
       "<table border=\"1\" class=\"dataframe\">\n",
       "  <thead>\n",
       "    <tr style=\"text-align: right;\">\n",
       "      <th></th>\n",
       "      <th>points</th>\n",
       "      <th>Result</th>\n",
       "    </tr>\n",
       "  </thead>\n",
       "  <tbody>\n",
       "    <tr>\n",
       "      <th>0</th>\n",
       "      <td>63</td>\n",
       "      <td>1</td>\n",
       "    </tr>\n",
       "    <tr>\n",
       "      <th>1</th>\n",
       "      <td>59</td>\n",
       "      <td>1</td>\n",
       "    </tr>\n",
       "    <tr>\n",
       "      <th>2</th>\n",
       "      <td>68</td>\n",
       "      <td>1</td>\n",
       "    </tr>\n",
       "    <tr>\n",
       "      <th>3</th>\n",
       "      <td>58</td>\n",
       "      <td>1</td>\n",
       "    </tr>\n",
       "    <tr>\n",
       "      <th>4</th>\n",
       "      <td>49</td>\n",
       "      <td>1</td>\n",
       "    </tr>\n",
       "  </tbody>\n",
       "</table>\n",
       "</div>"
      ],
      "text/plain": [
       "   points  Result\n",
       "0      63       1\n",
       "1      59       1\n",
       "2      68       1\n",
       "3      58       1\n",
       "4      49       1"
      ]
     },
     "execution_count": 37,
     "metadata": {},
     "output_type": "execute_result"
    }
   ],
   "source": [
    "#get dataframe\n",
    "wins = pd.DataFrame()\n",
    "wins['points'] = df['WScore']\n",
    "wins['Result'] = 1\n",
    "\n",
    "loss = pd.DataFrame()\n",
    "loss['points'] = df['LScore']\n",
    "loss['Result'] = 0\n",
    "\n",
    "predictions = pd.concat([wins,loss])\n",
    "predictions.head()"
   ]
  },
  {
   "cell_type": "code",
   "execution_count": 38,
   "metadata": {},
   "outputs": [
    {
     "data": {
      "text/plain": [
       "Text(0,0.5,'Result (Win = 1)')"
      ]
     },
     "execution_count": 38,
     "metadata": {},
     "output_type": "execute_result"
    },
    {
     "data": {
      "image/png": "[encoded data removed]",
      "text/plain": [
       "<matplotlib.figure.Figure at 0xec956d8>"
      ]
     },
     "metadata": {},
     "output_type": "display_data"
    }
   ],
   "source": [
    "from scipy.stats import gaussian_kde\n",
    "#plot density estimate\n",
    "xy = np.vstack([predictions.values.T[0],predictions.values.T[1]])\n",
    "de = gaussian_kde(xy)(xy)\n",
    "\n",
    "plt.scatter(predictions['points'],predictions['Result'],c=de)\n",
    "plt.xlabel('Points Scored')\n",
    "plt.ylabel('Result (Win = 1)')"
   ]
  },
  {
   "cell_type": "code",
   "execution_count": 39,
   "metadata": {},
   "outputs": [
    {
     "data": {
      "text/plain": [
       "Text(0,0.5,'Mean Result')"
      ]
     },
     "execution_count": 39,
     "metadata": {},
     "output_type": "execute_result"
    },
    {
     "data": {
      "image/png": "[encoded data removed]",
      "text/plain": [
       "<matplotlib.figure.Figure at 0xec24fd0>"
      ]
     },
     "metadata": {},
     "output_type": "display_data"
    }
   ],
   "source": [
    "#get mean results at each seed difference\n",
    "delta_vals = np.unique(predictions['points'].values)\n",
    "mean_result = []\n",
    "for val in delta_vals:\n",
    "    mean_result.append(np.mean(predictions[predictions['points']==val]['Result'].values))\n",
    "\n",
    "#plot mean results\n",
    "plt.plot(delta_vals,mean_result,'o')\n",
    "plt.xlabel('Points Scored')\n",
    "plt.ylabel('Mean Result')"
   ]
  },
  {
   "cell_type": "code",
   "execution_count": 40,
   "metadata": {},
   "outputs": [
    {
     "data": {
      "text/plain": [
       "Text(0,0.5,'Mean Result')"
      ]
     },
     "execution_count": 40,
     "metadata": {},
     "output_type": "execute_result"
    },
    {
     "data": {
      "image/png": "[encoded data removed]",
      "text/plain": [
       "<matplotlib.figure.Figure at 0xd214b00>"
      ]
     },
     "metadata": {},
     "output_type": "display_data"
    }
   ],
   "source": [
    "#split up into features and ground truth\n",
    "x_train = predictions['points'].values.reshape(-1,1)\n",
    "y_train = predictions['Result'].values\n",
    "x_train,y_train = shuffle(x_train,y_train)\n",
    "\n",
    "#create classifier and train\n",
    "logistic_reg = LogisticRegression(C=1000) #C is inverse of regularization strength\n",
    "logistic_reg.fit(x_train,y_train)\n",
    "\n",
    "#plot resulting probability\n",
    "xvals = np.arange(20,140).reshape(-1,1)\n",
    "p=logistic_reg.predict_proba(xvals)[:,1]\n",
    "\n",
    "plt.plot(delta_vals,mean_result,'o')\n",
    "plt.plot(xvals,p)\n",
    "\n",
    "plt.xlabel('Points Scored')\n",
    "plt.ylabel('Mean Result')"
   ]
  },
  {
   "cell_type": "markdown",
   "metadata": {},
   "source": [
    "## Test our predictions\n",
    "\n",
    "Let's now test this model."
   ]
  },
  {
   "cell_type": "code",
   "execution_count": 41,
   "metadata": {},
   "outputs": [
    {
     "data": {
      "text/html": [
       "<div>\n",
       "<style>\n",
       "    .dataframe thead tr:only-child th {\n",
       "        text-align: right;\n",
       "    }\n",
       "\n",
       "    .dataframe thead th {\n",
       "        text-align: left;\n",
       "    }\n",
       "\n",
       "    .dataframe tbody tr th {\n",
       "        vertical-align: top;\n",
       "    }\n",
       "</style>\n",
       "<table border=\"1\" class=\"dataframe\">\n",
       "  <thead>\n",
       "    <tr style=\"text-align: right;\">\n",
       "      <th></th>\n",
       "      <th>TeamSeed</th>\n",
       "      <th>OppSeed</th>\n",
       "      <th>Result</th>\n",
       "    </tr>\n",
       "  </thead>\n",
       "  <tbody>\n",
       "    <tr>\n",
       "      <th>0</th>\n",
       "      <td>9</td>\n",
       "      <td>8</td>\n",
       "      <td>1</td>\n",
       "    </tr>\n",
       "    <tr>\n",
       "      <th>1</th>\n",
       "      <td>11</td>\n",
       "      <td>6</td>\n",
       "      <td>1</td>\n",
       "    </tr>\n",
       "    <tr>\n",
       "      <th>2</th>\n",
       "      <td>1</td>\n",
       "      <td>16</td>\n",
       "      <td>1</td>\n",
       "    </tr>\n",
       "    <tr>\n",
       "      <th>3</th>\n",
       "      <td>9</td>\n",
       "      <td>8</td>\n",
       "      <td>1</td>\n",
       "    </tr>\n",
       "    <tr>\n",
       "      <th>4</th>\n",
       "      <td>3</td>\n",
       "      <td>14</td>\n",
       "      <td>1</td>\n",
       "    </tr>\n",
       "  </tbody>\n",
       "</table>\n",
       "</div>"
      ],
      "text/plain": [
       "   TeamSeed  OppSeed  Result\n",
       "0         9        8       1\n",
       "1        11        6       1\n",
       "2         1       16       1\n",
       "3         9        8       1\n",
       "4         3       14       1"
      ]
     },
     "execution_count": 41,
     "metadata": {},
     "output_type": "execute_result"
    }
   ],
   "source": [
    "win_team = pd.DataFrame()\n",
    "win_team['TeamSeed'] = df['WSeed']\n",
    "win_team['OppSeed'] = df['LSeed']\n",
    "win_team['Result'] = 1\n",
    "\n",
    "win_team.head()"
   ]
  },
  {
   "cell_type": "code",
   "execution_count": 42,
   "metadata": {},
   "outputs": [
    {
     "data": {
      "text/plain": [
       "0.76381672177609827"
      ]
     },
     "execution_count": 42,
     "metadata": {},
     "output_type": "execute_result"
    }
   ],
   "source": [
    "#predict from model and get accuracy\n",
    "X = np.vstack([win_team['TeamSeed'],win_team['OppSeed']]).T\n",
    "X_flip = np.vstack([win_team['OppSeed'],win_team['TeamSeed']]).T\n",
    "pred_score = svr_reg.predict(X).reshape(-1,1)\n",
    "pred_score_flip = svr_reg.predict(X_flip).reshape(-1,1)\n",
    "\n",
    "logreg_preds = 1-logistic_reg.predict_proba(pred_score_flip)\n",
    "np.mean(logreg_preds[:,1]>.5)"
   ]
  },
  {
   "cell_type": "code",
   "execution_count": 43,
   "metadata": {},
   "outputs": [
    {
     "name": "stdout",
     "output_type": "stream",
     "text": [
      "0.587148276878\n"
     ]
    }
   ],
   "source": [
    "#get log loss\n",
    "gt = np.zeros_like(logreg_preds)\n",
    "gt[:,1]=1.0\n",
    "logloss = sklearn.metrics.log_loss(gt,logreg_preds)\n",
    "print(logloss)"
   ]
  },
  {
   "cell_type": "markdown",
   "metadata": {},
   "source": [
    "Ok, doesn't seem to improve.  Let's try looking at the regular season."
   ]
  },
  {
   "cell_type": "markdown",
   "metadata": {},
   "source": [
    "## Regular season statistics\n",
    "\n",
    "We can try to get the mean score of each team in the tourney over the regular season.  Higher seeds may trend to scoring more over the regular season.  To start, let's just look at a single season (1985)."
   ]
  },
  {
   "cell_type": "code",
   "execution_count": 44,
   "metadata": {},
   "outputs": [
    {
     "data": {
      "text/html": [
       "<div>\n",
       "<style>\n",
       "    .dataframe thead tr:only-child th {\n",
       "        text-align: right;\n",
       "    }\n",
       "\n",
       "    .dataframe thead th {\n",
       "        text-align: left;\n",
       "    }\n",
       "\n",
       "    .dataframe tbody tr th {\n",
       "        vertical-align: top;\n",
       "    }\n",
       "</style>\n",
       "<table border=\"1\" class=\"dataframe\">\n",
       "  <thead>\n",
       "    <tr style=\"text-align: right;\">\n",
       "      <th></th>\n",
       "      <th>Season</th>\n",
       "      <th>DayNum</th>\n",
       "      <th>WTeamID</th>\n",
       "      <th>WScore</th>\n",
       "      <th>LTeamID</th>\n",
       "      <th>LScore</th>\n",
       "      <th>WLoc</th>\n",
       "      <th>NumOT</th>\n",
       "    </tr>\n",
       "  </thead>\n",
       "  <tbody>\n",
       "    <tr>\n",
       "      <th>0</th>\n",
       "      <td>1985</td>\n",
       "      <td>20</td>\n",
       "      <td>1228</td>\n",
       "      <td>81</td>\n",
       "      <td>1328</td>\n",
       "      <td>64</td>\n",
       "      <td>N</td>\n",
       "      <td>0</td>\n",
       "    </tr>\n",
       "    <tr>\n",
       "      <th>1</th>\n",
       "      <td>1985</td>\n",
       "      <td>25</td>\n",
       "      <td>1106</td>\n",
       "      <td>77</td>\n",
       "      <td>1354</td>\n",
       "      <td>70</td>\n",
       "      <td>H</td>\n",
       "      <td>0</td>\n",
       "    </tr>\n",
       "    <tr>\n",
       "      <th>2</th>\n",
       "      <td>1985</td>\n",
       "      <td>25</td>\n",
       "      <td>1112</td>\n",
       "      <td>63</td>\n",
       "      <td>1223</td>\n",
       "      <td>56</td>\n",
       "      <td>H</td>\n",
       "      <td>0</td>\n",
       "    </tr>\n",
       "    <tr>\n",
       "      <th>3</th>\n",
       "      <td>1985</td>\n",
       "      <td>25</td>\n",
       "      <td>1165</td>\n",
       "      <td>70</td>\n",
       "      <td>1432</td>\n",
       "      <td>54</td>\n",
       "      <td>H</td>\n",
       "      <td>0</td>\n",
       "    </tr>\n",
       "    <tr>\n",
       "      <th>4</th>\n",
       "      <td>1985</td>\n",
       "      <td>25</td>\n",
       "      <td>1192</td>\n",
       "      <td>86</td>\n",
       "      <td>1447</td>\n",
       "      <td>74</td>\n",
       "      <td>H</td>\n",
       "      <td>0</td>\n",
       "    </tr>\n",
       "  </tbody>\n",
       "</table>\n",
       "</div>"
      ],
      "text/plain": [
       "   Season  DayNum  WTeamID  WScore  LTeamID  LScore WLoc  NumOT\n",
       "0    1985      20     1228      81     1328      64    N      0\n",
       "1    1985      25     1106      77     1354      70    H      0\n",
       "2    1985      25     1112      63     1223      56    H      0\n",
       "3    1985      25     1165      70     1432      54    H      0\n",
       "4    1985      25     1192      86     1447      74    H      0"
      ]
     },
     "execution_count": 44,
     "metadata": {},
     "output_type": "execute_result"
    }
   ],
   "source": [
    "reg_season = pd.read_csv('Data/RegularSeasonCompactResults.csv')\n",
    "reg_season = reg_season[reg_season['Season']==1985]\n",
    "reg_season.head()"
   ]
  },
  {
   "cell_type": "markdown",
   "metadata": {},
   "source": [
    "Let's clean this up to only include the teams, scores, and result."
   ]
  },
  {
   "cell_type": "code",
   "execution_count": 45,
   "metadata": {},
   "outputs": [
    {
     "data": {
      "text/html": [
       "<div>\n",
       "<style>\n",
       "    .dataframe thead tr:only-child th {\n",
       "        text-align: right;\n",
       "    }\n",
       "\n",
       "    .dataframe thead th {\n",
       "        text-align: left;\n",
       "    }\n",
       "\n",
       "    .dataframe tbody tr th {\n",
       "        vertical-align: top;\n",
       "    }\n",
       "</style>\n",
       "<table border=\"1\" class=\"dataframe\">\n",
       "  <thead>\n",
       "    <tr style=\"text-align: right;\">\n",
       "      <th></th>\n",
       "      <th>Team</th>\n",
       "      <th>OppTeam</th>\n",
       "      <th>Score For</th>\n",
       "      <th>Score Against</th>\n",
       "      <th>Result</th>\n",
       "    </tr>\n",
       "  </thead>\n",
       "  <tbody>\n",
       "    <tr>\n",
       "      <th>3732</th>\n",
       "      <td>1217</td>\n",
       "      <td>1463</td>\n",
       "      <td>69</td>\n",
       "      <td>70</td>\n",
       "      <td>0</td>\n",
       "    </tr>\n",
       "    <tr>\n",
       "      <th>3733</th>\n",
       "      <td>1283</td>\n",
       "      <td>1183</td>\n",
       "      <td>64</td>\n",
       "      <td>75</td>\n",
       "      <td>0</td>\n",
       "    </tr>\n",
       "    <tr>\n",
       "      <th>3734</th>\n",
       "      <td>1314</td>\n",
       "      <td>1210</td>\n",
       "      <td>62</td>\n",
       "      <td>67</td>\n",
       "      <td>0</td>\n",
       "    </tr>\n",
       "    <tr>\n",
       "      <th>3735</th>\n",
       "      <td>1231</td>\n",
       "      <td>1276</td>\n",
       "      <td>71</td>\n",
       "      <td>73</td>\n",
       "      <td>0</td>\n",
       "    </tr>\n",
       "    <tr>\n",
       "      <th>3736</th>\n",
       "      <td>1116</td>\n",
       "      <td>1403</td>\n",
       "      <td>64</td>\n",
       "      <td>67</td>\n",
       "      <td>0</td>\n",
       "    </tr>\n",
       "  </tbody>\n",
       "</table>\n",
       "</div>"
      ],
      "text/plain": [
       "      Team  OppTeam  Score For  Score Against  Result\n",
       "3732  1217     1463         69             70       0\n",
       "3733  1283     1183         64             75       0\n",
       "3734  1314     1210         62             67       0\n",
       "3735  1231     1276         71             73       0\n",
       "3736  1116     1403         64             67       0"
      ]
     },
     "execution_count": 45,
     "metadata": {},
     "output_type": "execute_result"
    }
   ],
   "source": [
    "win_scores = reg_season[['WTeamID','LTeamID','WScore','LScore']].rename(columns={'WTeamID':'Team','LTeamID':'OppTeam','WScore':'Score For','LScore':'Score Against'})\n",
    "win_scores['Result'] = 1\n",
    "lose_scores = reg_season[['LTeamID','WTeamID','LScore','WScore']].rename(columns={'LTeamID':'Team','WTeamID':'OppTeam','LScore':'Score For','WScore':'Score Against'})\n",
    "lose_scores['Result'] = 0\n",
    "\n",
    "reg_scores = pd.concat([win_scores,lose_scores])\n",
    "\n",
    "reg_scores.tail()"
   ]
  },
  {
   "cell_type": "markdown",
   "metadata": {},
   "source": [
    "Ok, now we can compute the mean score (for and against) of each team across the season."
   ]
  },
  {
   "cell_type": "code",
   "execution_count": 46,
   "metadata": {},
   "outputs": [
    {
     "data": {
      "text/html": [
       "<div>\n",
       "<style>\n",
       "    .dataframe thead tr:only-child th {\n",
       "        text-align: right;\n",
       "    }\n",
       "\n",
       "    .dataframe thead th {\n",
       "        text-align: left;\n",
       "    }\n",
       "\n",
       "    .dataframe tbody tr th {\n",
       "        vertical-align: top;\n",
       "    }\n",
       "</style>\n",
       "<table border=\"1\" class=\"dataframe\">\n",
       "  <thead>\n",
       "    <tr style=\"text-align: right;\">\n",
       "      <th></th>\n",
       "      <th>Team</th>\n",
       "      <th>Score For</th>\n",
       "      <th>Score Against</th>\n",
       "    </tr>\n",
       "  </thead>\n",
       "  <tbody>\n",
       "    <tr>\n",
       "      <th>0</th>\n",
       "      <td>1102</td>\n",
       "      <td>63.083333</td>\n",
       "      <td>68.875000</td>\n",
       "    </tr>\n",
       "    <tr>\n",
       "      <th>1</th>\n",
       "      <td>1103</td>\n",
       "      <td>61.043478</td>\n",
       "      <td>64.086957</td>\n",
       "    </tr>\n",
       "    <tr>\n",
       "      <th>2</th>\n",
       "      <td>1104</td>\n",
       "      <td>68.500000</td>\n",
       "      <td>60.700000</td>\n",
       "    </tr>\n",
       "    <tr>\n",
       "      <th>3</th>\n",
       "      <td>1106</td>\n",
       "      <td>71.625000</td>\n",
       "      <td>75.416667</td>\n",
       "    </tr>\n",
       "    <tr>\n",
       "      <th>4</th>\n",
       "      <td>1108</td>\n",
       "      <td>83.000000</td>\n",
       "      <td>75.040000</td>\n",
       "    </tr>\n",
       "  </tbody>\n",
       "</table>\n",
       "</div>"
      ],
      "text/plain": [
       "   Team  Score For  Score Against\n",
       "0  1102  63.083333      68.875000\n",
       "1  1103  61.043478      64.086957\n",
       "2  1104  68.500000      60.700000\n",
       "3  1106  71.625000      75.416667\n",
       "4  1108  83.000000      75.040000"
      ]
     },
     "execution_count": 46,
     "metadata": {},
     "output_type": "execute_result"
    }
   ],
   "source": [
    "mean_scores=reg_scores.groupby('Team').mean().reset_index()[['Team','Score For','Score Against']]\n",
    "mean_scores.head()"
   ]
  },
  {
   "cell_type": "markdown",
   "metadata": {},
   "source": [
    "Let's merge this to include teams, scores and results."
   ]
  },
  {
   "cell_type": "code",
   "execution_count": 47,
   "metadata": {},
   "outputs": [
    {
     "data": {
      "text/html": [
       "<div>\n",
       "<style>\n",
       "    .dataframe thead tr:only-child th {\n",
       "        text-align: right;\n",
       "    }\n",
       "\n",
       "    .dataframe thead th {\n",
       "        text-align: left;\n",
       "    }\n",
       "\n",
       "    .dataframe tbody tr th {\n",
       "        vertical-align: top;\n",
       "    }\n",
       "</style>\n",
       "<table border=\"1\" class=\"dataframe\">\n",
       "  <thead>\n",
       "    <tr style=\"text-align: right;\">\n",
       "      <th></th>\n",
       "      <th>Team</th>\n",
       "      <th>Result</th>\n",
       "      <th>Score For</th>\n",
       "      <th>Score Against</th>\n",
       "      <th>OppTeam</th>\n",
       "      <th>OppScore For</th>\n",
       "      <th>OppScore Against</th>\n",
       "    </tr>\n",
       "  </thead>\n",
       "  <tbody>\n",
       "    <tr>\n",
       "      <th>0</th>\n",
       "      <td>1228</td>\n",
       "      <td>1</td>\n",
       "      <td>68.225806</td>\n",
       "      <td>57.354839</td>\n",
       "      <td>1328</td>\n",
       "      <td>89.833333</td>\n",
       "      <td>76.533333</td>\n",
       "    </tr>\n",
       "    <tr>\n",
       "      <th>1</th>\n",
       "      <td>1106</td>\n",
       "      <td>1</td>\n",
       "      <td>71.625000</td>\n",
       "      <td>75.416667</td>\n",
       "      <td>1354</td>\n",
       "      <td>68.208333</td>\n",
       "      <td>71.791667</td>\n",
       "    </tr>\n",
       "    <tr>\n",
       "      <th>2</th>\n",
       "      <td>1112</td>\n",
       "      <td>1</td>\n",
       "      <td>66.518519</td>\n",
       "      <td>59.333333</td>\n",
       "      <td>1223</td>\n",
       "      <td>68.320000</td>\n",
       "      <td>63.720000</td>\n",
       "    </tr>\n",
       "    <tr>\n",
       "      <th>3</th>\n",
       "      <td>1165</td>\n",
       "      <td>1</td>\n",
       "      <td>61.375000</td>\n",
       "      <td>59.083333</td>\n",
       "      <td>1432</td>\n",
       "      <td>63.478261</td>\n",
       "      <td>62.869565</td>\n",
       "    </tr>\n",
       "    <tr>\n",
       "      <th>4</th>\n",
       "      <td>1192</td>\n",
       "      <td>1</td>\n",
       "      <td>67.892857</td>\n",
       "      <td>64.714286</td>\n",
       "      <td>1447</td>\n",
       "      <td>73.333333</td>\n",
       "      <td>78.000000</td>\n",
       "    </tr>\n",
       "  </tbody>\n",
       "</table>\n",
       "</div>"
      ],
      "text/plain": [
       "   Team  Result  Score For  Score Against  OppTeam  OppScore For  \\\n",
       "0  1228       1  68.225806      57.354839     1328     89.833333   \n",
       "1  1106       1  71.625000      75.416667     1354     68.208333   \n",
       "2  1112       1  66.518519      59.333333     1223     68.320000   \n",
       "3  1165       1  61.375000      59.083333     1432     63.478261   \n",
       "4  1192       1  67.892857      64.714286     1447     73.333333   \n",
       "\n",
       "   OppScore Against  \n",
       "0         76.533333  \n",
       "1         71.791667  \n",
       "2         63.720000  \n",
       "3         62.869565  \n",
       "4         78.000000  "
      ]
     },
     "execution_count": 47,
     "metadata": {},
     "output_type": "execute_result"
    }
   ],
   "source": [
    "scores_merge = reg_scores[['Team','Result']].merge(mean_scores,how='left')\n",
    "opp_merge = reg_scores[['OppTeam','Result']].rename(columns={'OppTeam':'Team'}).merge(mean_scores,how='left')\n",
    "scores_merge['OppTeam'] = opp_merge['Team']\n",
    "scores_merge['OppScore For'] = opp_merge['Score For']\n",
    "scores_merge['OppScore Against'] = opp_merge['Score Against']\n",
    "scores_merge.head()"
   ]
  },
  {
   "cell_type": "markdown",
   "metadata": {},
   "source": [
    "Let's aggregate a team's offensive ability (mean points scored) with their opponent's defensive ability (mean points their opponent gives up).  We call this OvsD.  Similary we can aggregate a team's defensive ability (mean points given up) with their opponent's offensive ability (mean points their opponent score).  We call this DvsO.\n",
    "\n",
    "We therefore expect that the larger the OvsD value, and the smaller the DvsO value, the more likely you are to win."
   ]
  },
  {
   "cell_type": "code",
   "execution_count": 48,
   "metadata": {},
   "outputs": [
    {
     "data": {
      "text/plain": [
       "Text(0,0.5,'Result')"
      ]
     },
     "execution_count": 48,
     "metadata": {},
     "output_type": "execute_result"
    },
    {
     "data": {
      "image/png": "[encoded data removed]",
      "text/plain": [
       "<matplotlib.figure.Figure at 0xddfe080>"
      ]
     },
     "metadata": {},
     "output_type": "display_data"
    }
   ],
   "source": [
    "#compute OvsD and DvsO values\n",
    "OvsD = scores_merge['Score For'].values + scores_merge['OppScore Against'].values\n",
    "DvsO = scores_merge['Score Against'].values + scores_merge['OppScore For'].values\n",
    "result = scores_merge['Result'].values\n",
    "\n",
    "#plot density of result for OvsD values\n",
    "xy = np.vstack([OvsD.T,result])\n",
    "de = gaussian_kde(xy)(xy)\n",
    "\n",
    "plt.scatter(OvsD,scores_merge['Result'].values,c=de)\n",
    "plt.xlabel('Your O vs Their D')\n",
    "plt.ylabel('Result')"
   ]
  },
  {
   "cell_type": "markdown",
   "metadata": {},
   "source": [
    "Ok makes sense, the larger your OvsD value, the more likely you are to win.  Let's create a logistic regression model for both OvsD and DvsO to predict the result."
   ]
  },
  {
   "cell_type": "code",
   "execution_count": 49,
   "metadata": {},
   "outputs": [
    {
     "data": {
      "text/plain": [
       "LogisticRegression(C=1000, class_weight=None, dual=False, fit_intercept=True,\n",
       "          intercept_scaling=1, max_iter=100, multi_class='ovr', n_jobs=1,\n",
       "          penalty='l2', random_state=None, solver='liblinear', tol=0.0001,\n",
       "          verbose=0, warm_start=False)"
      ]
     },
     "execution_count": 49,
     "metadata": {},
     "output_type": "execute_result"
    }
   ],
   "source": [
    "#split up into features and ground truth\n",
    "x_train = np.vstack([OvsD,DvsO]).T\n",
    "y_train = result\n",
    "x_train,y_train = shuffle(x_train,y_train)\n",
    "\n",
    "#create classifier and train\n",
    "logistic_reg = LogisticRegression(C=1000) #C is inverse of regularization strength\n",
    "logistic_reg.fit(x_train,y_train)"
   ]
  },
  {
   "cell_type": "markdown",
   "metadata": {},
   "source": [
    "We now plot the resulting regression in 3d space."
   ]
  },
  {
   "cell_type": "code",
   "execution_count": 50,
   "metadata": {},
   "outputs": [
    {
     "data": {
      "image/png": "[encoded data removed]",
      "text/plain": [
       "<matplotlib.figure.Figure at 0xf7d50f0>"
      ]
     },
     "metadata": {},
     "output_type": "display_data"
    }
   ],
   "source": [
    "from mpl_toolkits.mplot3d import Axes3D\n",
    "#plot resulting probability\n",
    "x,y=np.meshgrid(range(110,170),range(110,170))\n",
    "xy = list(zip(x.flatten(),y.flatten()))\n",
    "p=logistic_reg.predict_proba(xy)[:,1]\n",
    "\n",
    "fig=plt.figure()\n",
    "ax = fig.add_subplot(111, projection='3d')\n",
    "ax.scatter(x.flatten(),y.flatten(),p)\n",
    "ax.set_xlabel('Your O vs Their D')\n",
    "ax.set_ylabel('Your D vs Their O')\n",
    "ax.set_zlabel('Result')\n",
    "ax.view_init(30, 70)"
   ]
  },
  {
   "cell_type": "markdown",
   "metadata": {},
   "source": [
    "## Regular Season Scores combined with Seed Difference\n",
    "\n",
    "Ok regular season scores provide some signal.  Perhaps combining this with seed difference will create an improved regression."
   ]
  },
  {
   "cell_type": "code",
   "execution_count": 51,
   "metadata": {},
   "outputs": [
    {
     "data": {
      "text/html": [
       "<div>\n",
       "<style>\n",
       "    .dataframe thead tr:only-child th {\n",
       "        text-align: right;\n",
       "    }\n",
       "\n",
       "    .dataframe thead th {\n",
       "        text-align: left;\n",
       "    }\n",
       "\n",
       "    .dataframe tbody tr th {\n",
       "        vertical-align: top;\n",
       "    }\n",
       "</style>\n",
       "<table border=\"1\" class=\"dataframe\">\n",
       "  <thead>\n",
       "    <tr style=\"text-align: right;\">\n",
       "      <th></th>\n",
       "      <th>Team</th>\n",
       "      <th>OppTeam</th>\n",
       "      <th>Score For</th>\n",
       "      <th>Score Against</th>\n",
       "      <th>Result</th>\n",
       "    </tr>\n",
       "  </thead>\n",
       "  <tbody>\n",
       "    <tr>\n",
       "      <th>150679</th>\n",
       "      <td>2017_1458</td>\n",
       "      <td>2017_1276</td>\n",
       "      <td>56</td>\n",
       "      <td>71</td>\n",
       "      <td>0</td>\n",
       "    </tr>\n",
       "    <tr>\n",
       "      <th>150680</th>\n",
       "      <td>2017_1463</td>\n",
       "      <td>2017_1343</td>\n",
       "      <td>59</td>\n",
       "      <td>71</td>\n",
       "      <td>0</td>\n",
       "    </tr>\n",
       "    <tr>\n",
       "      <th>150681</th>\n",
       "      <td>2017_1433</td>\n",
       "      <td>2017_1348</td>\n",
       "      <td>63</td>\n",
       "      <td>70</td>\n",
       "      <td>0</td>\n",
       "    </tr>\n",
       "    <tr>\n",
       "      <th>150682</th>\n",
       "      <td>2017_1153</td>\n",
       "      <td>2017_1374</td>\n",
       "      <td>56</td>\n",
       "      <td>71</td>\n",
       "      <td>0</td>\n",
       "    </tr>\n",
       "    <tr>\n",
       "      <th>150683</th>\n",
       "      <td>2017_1402</td>\n",
       "      <td>2017_1407</td>\n",
       "      <td>53</td>\n",
       "      <td>59</td>\n",
       "      <td>0</td>\n",
       "    </tr>\n",
       "  </tbody>\n",
       "</table>\n",
       "</div>"
      ],
      "text/plain": [
       "             Team    OppTeam  Score For  Score Against  Result\n",
       "150679  2017_1458  2017_1276         56             71       0\n",
       "150680  2017_1463  2017_1343         59             71       0\n",
       "150681  2017_1433  2017_1348         63             70       0\n",
       "150682  2017_1153  2017_1374         56             71       0\n",
       "150683  2017_1402  2017_1407         53             59       0"
      ]
     },
     "execution_count": 51,
     "metadata": {},
     "output_type": "execute_result"
    }
   ],
   "source": [
    "#read in data\n",
    "reg_season = pd.read_csv('Data/RegularSeasonCompactResults.csv')\n",
    "\n",
    "win_scores = reg_season[['Season','WTeamID','LTeamID','WScore','LScore']].rename(columns={'WTeamID':'Team','LTeamID':'OppTeam','WScore':'Score For','LScore':'Score Against'})\n",
    "win_scores['Result'] = 1\n",
    "lose_scores = reg_season[['Season','LTeamID','WTeamID','LScore','WScore']].rename(columns={'LTeamID':'Team','WTeamID':'OppTeam','LScore':'Score For','WScore':'Score Against'})\n",
    "lose_scores['Result'] = 0\n",
    "\n",
    "#combine wins and losses\n",
    "reg_scores = pd.concat([win_scores,lose_scores])\n",
    "\n",
    "#rename team identifier to include season\n",
    "reg_scores['Team'] = reg_scores['Season'].map(str)+'_'+reg_scores['Team'].map(str)\n",
    "reg_scores['OppTeam'] = reg_scores['Season'].map(str)+'_'+reg_scores['OppTeam'].map(str)\n",
    "reg_scores=reg_scores.drop('Season',axis=1)\n",
    "\n",
    "reg_scores.tail()"
   ]
  },
  {
   "cell_type": "markdown",
   "metadata": {},
   "source": [
    "Similar to above, we find the mean scores for and against each team."
   ]
  },
  {
   "cell_type": "code",
   "execution_count": 52,
   "metadata": {},
   "outputs": [
    {
     "data": {
      "text/html": [
       "<div>\n",
       "<style>\n",
       "    .dataframe thead tr:only-child th {\n",
       "        text-align: right;\n",
       "    }\n",
       "\n",
       "    .dataframe thead th {\n",
       "        text-align: left;\n",
       "    }\n",
       "\n",
       "    .dataframe tbody tr th {\n",
       "        vertical-align: top;\n",
       "    }\n",
       "</style>\n",
       "<table border=\"1\" class=\"dataframe\">\n",
       "  <thead>\n",
       "    <tr style=\"text-align: right;\">\n",
       "      <th></th>\n",
       "      <th>Team</th>\n",
       "      <th>Score For</th>\n",
       "      <th>Score Against</th>\n",
       "    </tr>\n",
       "  </thead>\n",
       "  <tbody>\n",
       "    <tr>\n",
       "      <th>10532</th>\n",
       "      <td>2017_1460</td>\n",
       "      <td>75.700000</td>\n",
       "      <td>74.300000</td>\n",
       "    </tr>\n",
       "    <tr>\n",
       "      <th>10533</th>\n",
       "      <td>2017_1461</td>\n",
       "      <td>77.466667</td>\n",
       "      <td>76.900000</td>\n",
       "    </tr>\n",
       "    <tr>\n",
       "      <th>10534</th>\n",
       "      <td>2017_1462</td>\n",
       "      <td>74.617647</td>\n",
       "      <td>71.352941</td>\n",
       "    </tr>\n",
       "    <tr>\n",
       "      <th>10535</th>\n",
       "      <td>2017_1463</td>\n",
       "      <td>73.178571</td>\n",
       "      <td>70.785714</td>\n",
       "    </tr>\n",
       "    <tr>\n",
       "      <th>10536</th>\n",
       "      <td>2017_1464</td>\n",
       "      <td>76.000000</td>\n",
       "      <td>83.187500</td>\n",
       "    </tr>\n",
       "  </tbody>\n",
       "</table>\n",
       "</div>"
      ],
      "text/plain": [
       "            Team  Score For  Score Against\n",
       "10532  2017_1460  75.700000      74.300000\n",
       "10533  2017_1461  77.466667      76.900000\n",
       "10534  2017_1462  74.617647      71.352941\n",
       "10535  2017_1463  73.178571      70.785714\n",
       "10536  2017_1464  76.000000      83.187500"
      ]
     },
     "execution_count": 52,
     "metadata": {},
     "output_type": "execute_result"
    }
   ],
   "source": [
    "mean_scores=reg_scores.groupby('Team').mean().reset_index()[['Team','Score For','Score Against']]\n",
    "mean_scores.tail()"
   ]
  },
  {
   "cell_type": "markdown",
   "metadata": {},
   "source": [
    "Now let's create a dataframe of all games played"
   ]
  },
  {
   "cell_type": "code",
   "execution_count": 53,
   "metadata": {},
   "outputs": [
    {
     "data": {
      "text/html": [
       "<div>\n",
       "<style>\n",
       "    .dataframe thead tr:only-child th {\n",
       "        text-align: right;\n",
       "    }\n",
       "\n",
       "    .dataframe thead th {\n",
       "        text-align: left;\n",
       "    }\n",
       "\n",
       "    .dataframe tbody tr th {\n",
       "        vertical-align: top;\n",
       "    }\n",
       "</style>\n",
       "<table border=\"1\" class=\"dataframe\">\n",
       "  <thead>\n",
       "    <tr style=\"text-align: right;\">\n",
       "      <th></th>\n",
       "      <th>Team</th>\n",
       "      <th>Opponent</th>\n",
       "    </tr>\n",
       "  </thead>\n",
       "  <tbody>\n",
       "    <tr>\n",
       "      <th>2112</th>\n",
       "      <td>2017_1314</td>\n",
       "      <td>2017_1246</td>\n",
       "    </tr>\n",
       "    <tr>\n",
       "      <th>2113</th>\n",
       "      <td>2017_1376</td>\n",
       "      <td>2017_1196</td>\n",
       "    </tr>\n",
       "    <tr>\n",
       "      <th>2114</th>\n",
       "      <td>2017_1211</td>\n",
       "      <td>2017_1376</td>\n",
       "    </tr>\n",
       "    <tr>\n",
       "      <th>2115</th>\n",
       "      <td>2017_1314</td>\n",
       "      <td>2017_1332</td>\n",
       "    </tr>\n",
       "    <tr>\n",
       "      <th>2116</th>\n",
       "      <td>2017_1314</td>\n",
       "      <td>2017_1211</td>\n",
       "    </tr>\n",
       "  </tbody>\n",
       "</table>\n",
       "</div>"
      ],
      "text/plain": [
       "           Team   Opponent\n",
       "2112  2017_1314  2017_1246\n",
       "2113  2017_1376  2017_1196\n",
       "2114  2017_1211  2017_1376\n",
       "2115  2017_1314  2017_1332\n",
       "2116  2017_1314  2017_1211"
      ]
     },
     "execution_count": 53,
     "metadata": {},
     "output_type": "execute_result"
    }
   ],
   "source": [
    "df_OD = pd.DataFrame()\n",
    "df_OD['Team'] = df['Season'].map(str)+'_'+df['WTeamID'].map(str)\n",
    "df_OD['OppTeam'] = df['Season'].map(str)+'_'+df['LTeamID'].map(str)\n",
    "df_OD=df_OD.rename(columns={'OppTeam':'Opponent'})\n",
    "\n",
    "df_OD.tail()"
   ]
  },
  {
   "cell_type": "markdown",
   "metadata": {},
   "source": [
    "For each game, lets include the OvsD and DvsO value."
   ]
  },
  {
   "cell_type": "code",
   "execution_count": 54,
   "metadata": {},
   "outputs": [
    {
     "data": {
      "text/html": [
       "<div>\n",
       "<style>\n",
       "    .dataframe thead tr:only-child th {\n",
       "        text-align: right;\n",
       "    }\n",
       "\n",
       "    .dataframe thead th {\n",
       "        text-align: left;\n",
       "    }\n",
       "\n",
       "    .dataframe tbody tr th {\n",
       "        vertical-align: top;\n",
       "    }\n",
       "</style>\n",
       "<table border=\"1\" class=\"dataframe\">\n",
       "  <thead>\n",
       "    <tr style=\"text-align: right;\">\n",
       "      <th></th>\n",
       "      <th>Team</th>\n",
       "      <th>Opponent</th>\n",
       "      <th>OvsD</th>\n",
       "      <th>DvsO</th>\n",
       "    </tr>\n",
       "  </thead>\n",
       "  <tbody>\n",
       "    <tr>\n",
       "      <th>2112</th>\n",
       "      <td>2017_1314</td>\n",
       "      <td>2017_1246</td>\n",
       "      <td>155.921569</td>\n",
       "      <td>156.850267</td>\n",
       "    </tr>\n",
       "    <tr>\n",
       "      <th>2113</th>\n",
       "      <td>2017_1376</td>\n",
       "      <td>2017_1196</td>\n",
       "      <td>138.046371</td>\n",
       "      <td>142.829637</td>\n",
       "    </tr>\n",
       "    <tr>\n",
       "      <th>2114</th>\n",
       "      <td>2017_1211</td>\n",
       "      <td>2017_1376</td>\n",
       "      <td>149.124145</td>\n",
       "      <td>132.635386</td>\n",
       "    </tr>\n",
       "    <tr>\n",
       "      <th>2115</th>\n",
       "      <td>2017_1314</td>\n",
       "      <td>2017_1332</td>\n",
       "      <td>149.696970</td>\n",
       "      <td>149.575758</td>\n",
       "    </tr>\n",
       "    <tr>\n",
       "      <th>2116</th>\n",
       "      <td>2017_1314</td>\n",
       "      <td>2017_1211</td>\n",
       "      <td>145.484848</td>\n",
       "      <td>155.484848</td>\n",
       "    </tr>\n",
       "  </tbody>\n",
       "</table>\n",
       "</div>"
      ],
      "text/plain": [
       "           Team   Opponent        OvsD        DvsO\n",
       "2112  2017_1314  2017_1246  155.921569  156.850267\n",
       "2113  2017_1376  2017_1196  138.046371  142.829637\n",
       "2114  2017_1211  2017_1376  149.124145  132.635386\n",
       "2115  2017_1314  2017_1332  149.696970  149.575758\n",
       "2116  2017_1314  2017_1211  145.484848  155.484848"
      ]
     },
     "execution_count": 54,
     "metadata": {},
     "output_type": "execute_result"
    }
   ],
   "source": [
    "def findOD(row):\n",
    "    team_m_scores = mean_scores[mean_scores['Team']==row['Team']]\n",
    "    opp_m_scores = mean_scores[mean_scores['Team']==row['Opponent']]\n",
    "    OvsD = team_m_scores['Score For'].values + opp_m_scores['Score Against'].values\n",
    "    DvsO = team_m_scores['Score Against'].values + opp_m_scores['Score For'].values\n",
    "    \n",
    "    row['OvsD'] = OvsD[0]\n",
    "    row['DvsO'] = DvsO[0]\n",
    "    return row\n",
    "\n",
    "df_OD=df_OD.apply(findOD,axis=1)\n",
    "df_OD.tail()"
   ]
  },
  {
   "cell_type": "markdown",
   "metadata": {},
   "source": [
    "For each game we also need the seed difference."
   ]
  },
  {
   "cell_type": "code",
   "execution_count": 55,
   "metadata": {},
   "outputs": [
    {
     "data": {
      "text/html": [
       "<div>\n",
       "<style>\n",
       "    .dataframe thead tr:only-child th {\n",
       "        text-align: right;\n",
       "    }\n",
       "\n",
       "    .dataframe thead th {\n",
       "        text-align: left;\n",
       "    }\n",
       "\n",
       "    .dataframe tbody tr th {\n",
       "        vertical-align: top;\n",
       "    }\n",
       "</style>\n",
       "<table border=\"1\" class=\"dataframe\">\n",
       "  <thead>\n",
       "    <tr style=\"text-align: right;\">\n",
       "      <th></th>\n",
       "      <th>SeedDelta</th>\n",
       "      <th>OvsD</th>\n",
       "      <th>DvsO</th>\n",
       "      <th>Result</th>\n",
       "      <th>Season</th>\n",
       "    </tr>\n",
       "  </thead>\n",
       "  <tbody>\n",
       "    <tr>\n",
       "      <th>2112</th>\n",
       "      <td>1</td>\n",
       "      <td>156.850267</td>\n",
       "      <td>155.921569</td>\n",
       "      <td>0</td>\n",
       "      <td>2017</td>\n",
       "    </tr>\n",
       "    <tr>\n",
       "      <th>2113</th>\n",
       "      <td>-3</td>\n",
       "      <td>142.829637</td>\n",
       "      <td>138.046371</td>\n",
       "      <td>0</td>\n",
       "      <td>2017</td>\n",
       "    </tr>\n",
       "    <tr>\n",
       "      <th>2114</th>\n",
       "      <td>6</td>\n",
       "      <td>132.635386</td>\n",
       "      <td>149.124145</td>\n",
       "      <td>0</td>\n",
       "      <td>2017</td>\n",
       "    </tr>\n",
       "    <tr>\n",
       "      <th>2115</th>\n",
       "      <td>2</td>\n",
       "      <td>149.575758</td>\n",
       "      <td>149.696970</td>\n",
       "      <td>0</td>\n",
       "      <td>2017</td>\n",
       "    </tr>\n",
       "    <tr>\n",
       "      <th>2116</th>\n",
       "      <td>0</td>\n",
       "      <td>155.484848</td>\n",
       "      <td>145.484848</td>\n",
       "      <td>0</td>\n",
       "      <td>2017</td>\n",
       "    </tr>\n",
       "  </tbody>\n",
       "</table>\n",
       "</div>"
      ],
      "text/plain": [
       "      SeedDelta        OvsD        DvsO  Result  Season\n",
       "2112          1  156.850267  155.921569       0    2017\n",
       "2113         -3  142.829637  138.046371       0    2017\n",
       "2114          6  132.635386  149.124145       0    2017\n",
       "2115          2  149.575758  149.696970       0    2017\n",
       "2116          0  155.484848  145.484848       0    2017"
      ]
     },
     "execution_count": 55,
     "metadata": {},
     "output_type": "execute_result"
    }
   ],
   "source": [
    "wins = pd.DataFrame()\n",
    "wins['SeedDelta'] = df['SeedDelta']\n",
    "wins['OvsD'] = df_OD['OvsD']\n",
    "wins['DvsO'] = df_OD['DvsO']\n",
    "wins['Result'] = 1\n",
    "\n",
    "loss = pd.DataFrame()\n",
    "loss['SeedDelta'] = -df['SeedDelta']\n",
    "loss['OvsD'] = df_OD['DvsO']\n",
    "loss['DvsO'] = df_OD['OvsD']\n",
    "loss['Result'] = 0\n",
    "\n",
    "predictions = pd.concat([wins,loss])\n",
    "predictions['Season'] = df['Season']\n",
    "predictions.tail()"
   ]
  },
  {
   "cell_type": "markdown",
   "metadata": {},
   "source": [
    "Ok to test this regression, let's split up our data to train on all games before 2014 and test on games from 2014 on.  \n",
    "\n",
    "For comparison we can also train a logistic regression model on ONLY seed difference data (as in NCAA Logistic Regression notebook)."
   ]
  },
  {
   "cell_type": "code",
   "execution_count": 56,
   "metadata": {},
   "outputs": [
    {
     "data": {
      "text/plain": [
       "LogisticRegression(C=1000, class_weight=None, dual=False, fit_intercept=True,\n",
       "          intercept_scaling=1, max_iter=100, multi_class='ovr', n_jobs=1,\n",
       "          penalty='l2', random_state=None, solver='liblinear', tol=0.0001,\n",
       "          verbose=0, warm_start=False)"
      ]
     },
     "execution_count": 56,
     "metadata": {},
     "output_type": "execute_result"
    }
   ],
   "source": [
    "#split up into train and test data\n",
    "train_data = predictions[predictions['Season']<2014]\n",
    "test_data = predictions[predictions['Season']>=2014]\n",
    "\n",
    "#split up into features and ground truth (all features)\n",
    "x_train = train_data[['SeedDelta','OvsD','DvsO']].values\n",
    "y_train = train_data['Result']\n",
    "x_train,y_train = shuffle(x_train,y_train)\n",
    "\n",
    "#split up into features and ground truth (only seed difference)\n",
    "x_train_seed_only = train_data[['SeedDelta']].values\n",
    "y_train_seed_only = train_data['Result']\n",
    "x_train_seed_only,y_train_seed_only = shuffle(x_train_seed_only,y_train_seed_only)\n",
    "\n",
    "#create classifier and train (all features)\n",
    "logistic_reg = LogisticRegression(C=1000) #C is inverse of regularization strength\n",
    "logistic_reg.fit(x_train,y_train)\n",
    "\n",
    "#create classifier and train (only seed difference)\n",
    "logistic_reg_seed_only = LogisticRegression(C=1000) #C is inverse of regularization strength\n",
    "logistic_reg_seed_only.fit(x_train_seed_only,y_train_seed_only)"
   ]
  },
  {
   "cell_type": "markdown",
   "metadata": {},
   "source": [
    "Let's check out our resulting log loss."
   ]
  },
  {
   "cell_type": "code",
   "execution_count": 57,
   "metadata": {},
   "outputs": [
    {
     "name": "stdout",
     "output_type": "stream",
     "text": [
      "Seed Difference Log Loss is 0.5712\n",
      "All Features Log Loss is 0.5578\n"
     ]
    }
   ],
   "source": [
    "#get feature data to predict on\n",
    "X = np.vstack([test_data['SeedDelta'],test_data['OvsD'],test_data['DvsO']]).T\n",
    "X_seed_only = np.vstack([test_data['SeedDelta']]).T\n",
    "\n",
    "#make predictions\n",
    "p=logistic_reg.predict_proba(X)\n",
    "p_seed_only = logistic_reg_seed_only.predict_proba(X_seed_only)\n",
    "\n",
    "#gather ground truth\n",
    "gt = np.zeros_like(p)\n",
    "gt[:,1]=test_data['Result'].values\n",
    "gt[:,0] = 1 - gt[:,1]\n",
    "\n",
    "#compare log loss\n",
    "logloss = sklearn.metrics.log_loss(gt,p)\n",
    "logloss_seed_only = sklearn.metrics.log_loss(gt,p_seed_only)\n",
    "\n",
    "print('Seed Difference Log Loss is %1.4f'%logloss_seed_only)\n",
    "print('All Features Log Loss is %1.4f'%logloss)"
   ]
  },
  {
   "cell_type": "markdown",
   "metadata": {},
   "source": [
    "We see that using OvsD and DvsO with seed difference is an improvement over only seed difference."
   ]
  },
  {
   "cell_type": "markdown",
   "metadata": {},
   "source": [
    "## Create submission\n",
    "\n",
    "This follows the tutorial on kaggle."
   ]
  },
  {
   "cell_type": "code",
   "execution_count": 33,
   "metadata": {},
   "outputs": [
    {
     "data": {
      "text/html": [
       "<div>\n",
       "<style>\n",
       "    .dataframe thead tr:only-child th {\n",
       "        text-align: right;\n",
       "    }\n",
       "\n",
       "    .dataframe thead th {\n",
       "        text-align: left;\n",
       "    }\n",
       "\n",
       "    .dataframe tbody tr th {\n",
       "        vertical-align: top;\n",
       "    }\n",
       "</style>\n",
       "<table border=\"1\" class=\"dataframe\">\n",
       "  <thead>\n",
       "    <tr style=\"text-align: right;\">\n",
       "      <th></th>\n",
       "      <th>Pred</th>\n",
       "      <th>Team</th>\n",
       "      <th>Opponent</th>\n",
       "    </tr>\n",
       "  </thead>\n",
       "  <tbody>\n",
       "    <tr>\n",
       "      <th>0</th>\n",
       "      <td>0.5</td>\n",
       "      <td>2014_1107</td>\n",
       "      <td>2014_1110</td>\n",
       "    </tr>\n",
       "    <tr>\n",
       "      <th>1</th>\n",
       "      <td>0.5</td>\n",
       "      <td>2014_1107</td>\n",
       "      <td>2014_1112</td>\n",
       "    </tr>\n",
       "    <tr>\n",
       "      <th>2</th>\n",
       "      <td>0.5</td>\n",
       "      <td>2014_1107</td>\n",
       "      <td>2014_1113</td>\n",
       "    </tr>\n",
       "    <tr>\n",
       "      <th>3</th>\n",
       "      <td>0.5</td>\n",
       "      <td>2014_1107</td>\n",
       "      <td>2014_1124</td>\n",
       "    </tr>\n",
       "    <tr>\n",
       "      <th>4</th>\n",
       "      <td>0.5</td>\n",
       "      <td>2014_1107</td>\n",
       "      <td>2014_1140</td>\n",
       "    </tr>\n",
       "  </tbody>\n",
       "</table>\n",
       "</div>"
      ],
      "text/plain": [
       "   Pred       Team   Opponent\n",
       "0   0.5  2014_1107  2014_1110\n",
       "1   0.5  2014_1107  2014_1112\n",
       "2   0.5  2014_1107  2014_1113\n",
       "3   0.5  2014_1107  2014_1124\n",
       "4   0.5  2014_1107  2014_1140"
      ]
     },
     "execution_count": 33,
     "metadata": {},
     "output_type": "execute_result"
    }
   ],
   "source": [
    "def addTeamIDs(row):\n",
    "    teamIDs = row['ID'].split('_')\n",
    "    \n",
    "    row['Team'] = teamIDs[0]+'_'+teamIDs[1]\n",
    "    row['Opponent'] = teamIDs[0]+'_'+teamIDs[2]\n",
    "    \n",
    "    return row\n",
    "\n",
    "df_sample = pd.read_csv('Data/SampleSubmissionStage1.csv')\n",
    "\n",
    "df_sample = df_sample.apply(addTeamIDs,axis=1)\n",
    "df_sample = df_sample.drop('ID',axis=1)\n",
    "df_sample.head()"
   ]
  },
  {
   "cell_type": "code",
   "execution_count": 34,
   "metadata": {},
   "outputs": [
    {
     "data": {
      "text/html": [
       "<div>\n",
       "<style>\n",
       "    .dataframe thead tr:only-child th {\n",
       "        text-align: right;\n",
       "    }\n",
       "\n",
       "    .dataframe thead th {\n",
       "        text-align: left;\n",
       "    }\n",
       "\n",
       "    .dataframe tbody tr th {\n",
       "        vertical-align: top;\n",
       "    }\n",
       "</style>\n",
       "<table border=\"1\" class=\"dataframe\">\n",
       "  <thead>\n",
       "    <tr style=\"text-align: right;\">\n",
       "      <th></th>\n",
       "      <th>Seed</th>\n",
       "      <th>Team</th>\n",
       "    </tr>\n",
       "  </thead>\n",
       "  <tbody>\n",
       "    <tr>\n",
       "      <th>0</th>\n",
       "      <td>1</td>\n",
       "      <td>1985_1207</td>\n",
       "    </tr>\n",
       "    <tr>\n",
       "      <th>1</th>\n",
       "      <td>2</td>\n",
       "      <td>1985_1210</td>\n",
       "    </tr>\n",
       "    <tr>\n",
       "      <th>2</th>\n",
       "      <td>3</td>\n",
       "      <td>1985_1228</td>\n",
       "    </tr>\n",
       "    <tr>\n",
       "      <th>3</th>\n",
       "      <td>4</td>\n",
       "      <td>1985_1260</td>\n",
       "    </tr>\n",
       "    <tr>\n",
       "      <th>4</th>\n",
       "      <td>5</td>\n",
       "      <td>1985_1374</td>\n",
       "    </tr>\n",
       "  </tbody>\n",
       "</table>\n",
       "</div>"
      ],
      "text/plain": [
       "   Seed       Team\n",
       "0     1  1985_1207\n",
       "1     2  1985_1210\n",
       "2     3  1985_1228\n",
       "3     4  1985_1260\n",
       "4     5  1985_1374"
      ]
     },
     "execution_count": 34,
     "metadata": {},
     "output_type": "execute_result"
    }
   ],
   "source": [
    "team_seeds = pd.read_csv('Data/NCAATourneySeeds.csv')\n",
    "\n",
    "seed_to_int = lambda x: int(''.join([s for s in x if not s.isalpha()]))\n",
    "team_seeds['Seed'] = team_seeds['Seed'].apply(seed_to_int)\n",
    "\n",
    "team_seeds['Team'] = team_seeds['Season'].map(str)+'_'+team_seeds['TeamID'].map(str)\n",
    "team_seeds = team_seeds.drop('TeamID',1).drop('Season',1)\n",
    "team_seeds.head()"
   ]
  },
  {
   "cell_type": "code",
   "execution_count": 35,
   "metadata": {},
   "outputs": [
    {
     "data": {
      "text/html": [
       "<div>\n",
       "<style>\n",
       "    .dataframe thead tr:only-child th {\n",
       "        text-align: right;\n",
       "    }\n",
       "\n",
       "    .dataframe thead th {\n",
       "        text-align: left;\n",
       "    }\n",
       "\n",
       "    .dataframe tbody tr th {\n",
       "        vertical-align: top;\n",
       "    }\n",
       "</style>\n",
       "<table border=\"1\" class=\"dataframe\">\n",
       "  <thead>\n",
       "    <tr style=\"text-align: right;\">\n",
       "      <th></th>\n",
       "      <th>Pred</th>\n",
       "      <th>Team</th>\n",
       "      <th>Opponent</th>\n",
       "      <th>SeedDiff</th>\n",
       "    </tr>\n",
       "  </thead>\n",
       "  <tbody>\n",
       "    <tr>\n",
       "      <th>0</th>\n",
       "      <td>0.5</td>\n",
       "      <td>2014_1107</td>\n",
       "      <td>2014_1110</td>\n",
       "      <td>1</td>\n",
       "    </tr>\n",
       "    <tr>\n",
       "      <th>1</th>\n",
       "      <td>0.5</td>\n",
       "      <td>2014_1107</td>\n",
       "      <td>2014_1112</td>\n",
       "      <td>15</td>\n",
       "    </tr>\n",
       "    <tr>\n",
       "      <th>2</th>\n",
       "      <td>0.5</td>\n",
       "      <td>2014_1107</td>\n",
       "      <td>2014_1113</td>\n",
       "      <td>6</td>\n",
       "    </tr>\n",
       "    <tr>\n",
       "      <th>3</th>\n",
       "      <td>0.5</td>\n",
       "      <td>2014_1107</td>\n",
       "      <td>2014_1124</td>\n",
       "      <td>10</td>\n",
       "    </tr>\n",
       "    <tr>\n",
       "      <th>4</th>\n",
       "      <td>0.5</td>\n",
       "      <td>2014_1107</td>\n",
       "      <td>2014_1140</td>\n",
       "      <td>6</td>\n",
       "    </tr>\n",
       "  </tbody>\n",
       "</table>\n",
       "</div>"
      ],
      "text/plain": [
       "   Pred       Team   Opponent  SeedDiff\n",
       "0   0.5  2014_1107  2014_1110         1\n",
       "1   0.5  2014_1107  2014_1112        15\n",
       "2   0.5  2014_1107  2014_1113         6\n",
       "3   0.5  2014_1107  2014_1124        10\n",
       "4   0.5  2014_1107  2014_1140         6"
      ]
     },
     "execution_count": 35,
     "metadata": {},
     "output_type": "execute_result"
    }
   ],
   "source": [
    "def findSeedDiff(row):\n",
    "    teamId = row['Team']\n",
    "    oppId = row['Opponent']\n",
    "    \n",
    "    teamSeed = team_seeds[team_seeds['Team']==teamId]['Seed'].values[0]\n",
    "    oppSeed = team_seeds[team_seeds['Team']==oppId]['Seed'].values[0]\n",
    "    row['SeedDiff'] = teamSeed - oppSeed\n",
    "    return row\n",
    "\n",
    "df_sample=df_sample.apply(findSeedDiff,1)\n",
    "df_sample.head()"
   ]
  },
  {
   "cell_type": "code",
   "execution_count": 607,
   "metadata": {},
   "outputs": [
    {
     "data": {
      "text/html": [
       "<div>\n",
       "<style>\n",
       "    .dataframe thead tr:only-child th {\n",
       "        text-align: right;\n",
       "    }\n",
       "\n",
       "    .dataframe thead th {\n",
       "        text-align: left;\n",
       "    }\n",
       "\n",
       "    .dataframe tbody tr th {\n",
       "        vertical-align: top;\n",
       "    }\n",
       "</style>\n",
       "<table border=\"1\" class=\"dataframe\">\n",
       "  <thead>\n",
       "    <tr style=\"text-align: right;\">\n",
       "      <th></th>\n",
       "      <th>Pred</th>\n",
       "      <th>Team</th>\n",
       "      <th>Opponent</th>\n",
       "      <th>SeedDiff</th>\n",
       "      <th>OvsD</th>\n",
       "      <th>DvsO</th>\n",
       "    </tr>\n",
       "  </thead>\n",
       "  <tbody>\n",
       "    <tr>\n",
       "      <th>0</th>\n",
       "      <td>0.5</td>\n",
       "      <td>2014_1107</td>\n",
       "      <td>2014_1110</td>\n",
       "      <td>1</td>\n",
       "      <td>124.656250</td>\n",
       "      <td>127.781250</td>\n",
       "    </tr>\n",
       "    <tr>\n",
       "      <th>1</th>\n",
       "      <td>0.5</td>\n",
       "      <td>2014_1107</td>\n",
       "      <td>2014_1112</td>\n",
       "      <td>15</td>\n",
       "      <td>124.178309</td>\n",
       "      <td>136.902574</td>\n",
       "    </tr>\n",
       "    <tr>\n",
       "      <th>2</th>\n",
       "      <td>0.5</td>\n",
       "      <td>2014_1107</td>\n",
       "      <td>2014_1113</td>\n",
       "      <td>6</td>\n",
       "      <td>134.906250</td>\n",
       "      <td>138.875000</td>\n",
       "    </tr>\n",
       "    <tr>\n",
       "      <th>3</th>\n",
       "      <td>0.5</td>\n",
       "      <td>2014_1107</td>\n",
       "      <td>2014_1124</td>\n",
       "      <td>10</td>\n",
       "      <td>134.425189</td>\n",
       "      <td>137.631629</td>\n",
       "    </tr>\n",
       "    <tr>\n",
       "      <th>4</th>\n",
       "      <td>0.5</td>\n",
       "      <td>2014_1107</td>\n",
       "      <td>2014_1140</td>\n",
       "      <td>6</td>\n",
       "      <td>143.576705</td>\n",
       "      <td>148.055871</td>\n",
       "    </tr>\n",
       "  </tbody>\n",
       "</table>\n",
       "</div>"
      ],
      "text/plain": [
       "   Pred       Team   Opponent  SeedDiff        OvsD        DvsO\n",
       "0   0.5  2014_1107  2014_1110         1  124.656250  127.781250\n",
       "1   0.5  2014_1107  2014_1112        15  124.178309  136.902574\n",
       "2   0.5  2014_1107  2014_1113         6  134.906250  138.875000\n",
       "3   0.5  2014_1107  2014_1124        10  134.425189  137.631629\n",
       "4   0.5  2014_1107  2014_1140         6  143.576705  148.055871"
      ]
     },
     "execution_count": 607,
     "metadata": {},
     "output_type": "execute_result"
    }
   ],
   "source": [
    "df_sample = df_sample.apply(findOD,axis=1)\n",
    "df_sample.head()"
   ]
  },
  {
   "cell_type": "code",
   "execution_count": 614,
   "metadata": {},
   "outputs": [
    {
     "data": {
      "text/html": [
       "<div>\n",
       "<style>\n",
       "    .dataframe thead tr:only-child th {\n",
       "        text-align: right;\n",
       "    }\n",
       "\n",
       "    .dataframe thead th {\n",
       "        text-align: left;\n",
       "    }\n",
       "\n",
       "    .dataframe tbody tr th {\n",
       "        vertical-align: top;\n",
       "    }\n",
       "</style>\n",
       "<table border=\"1\" class=\"dataframe\">\n",
       "  <thead>\n",
       "    <tr style=\"text-align: right;\">\n",
       "      <th></th>\n",
       "      <th>Pred</th>\n",
       "      <th>Team</th>\n",
       "      <th>Opponent</th>\n",
       "      <th>SeedDiff</th>\n",
       "      <th>OvsD</th>\n",
       "      <th>DvsO</th>\n",
       "    </tr>\n",
       "  </thead>\n",
       "  <tbody>\n",
       "    <tr>\n",
       "      <th>0</th>\n",
       "      <td>0.419178</td>\n",
       "      <td>2014_1107</td>\n",
       "      <td>2014_1110</td>\n",
       "      <td>1</td>\n",
       "      <td>124.656250</td>\n",
       "      <td>127.781250</td>\n",
       "    </tr>\n",
       "    <tr>\n",
       "      <th>1</th>\n",
       "      <td>0.054782</td>\n",
       "      <td>2014_1107</td>\n",
       "      <td>2014_1112</td>\n",
       "      <td>15</td>\n",
       "      <td>124.178309</td>\n",
       "      <td>136.902574</td>\n",
       "    </tr>\n",
       "    <tr>\n",
       "      <th>2</th>\n",
       "      <td>0.254999</td>\n",
       "      <td>2014_1107</td>\n",
       "      <td>2014_1113</td>\n",
       "      <td>6</td>\n",
       "      <td>134.906250</td>\n",
       "      <td>138.875000</td>\n",
       "    </tr>\n",
       "    <tr>\n",
       "      <th>3</th>\n",
       "      <td>0.170389</td>\n",
       "      <td>2014_1107</td>\n",
       "      <td>2014_1124</td>\n",
       "      <td>10</td>\n",
       "      <td>134.425189</td>\n",
       "      <td>137.631629</td>\n",
       "    </tr>\n",
       "    <tr>\n",
       "      <th>4</th>\n",
       "      <td>0.249239</td>\n",
       "      <td>2014_1107</td>\n",
       "      <td>2014_1140</td>\n",
       "      <td>6</td>\n",
       "      <td>143.576705</td>\n",
       "      <td>148.055871</td>\n",
       "    </tr>\n",
       "  </tbody>\n",
       "</table>\n",
       "</div>"
      ],
      "text/plain": [
       "       Pred       Team   Opponent  SeedDiff        OvsD        DvsO\n",
       "0  0.419178  2014_1107  2014_1110         1  124.656250  127.781250\n",
       "1  0.054782  2014_1107  2014_1112        15  124.178309  136.902574\n",
       "2  0.254999  2014_1107  2014_1113         6  134.906250  138.875000\n",
       "3  0.170389  2014_1107  2014_1124        10  134.425189  137.631629\n",
       "4  0.249239  2014_1107  2014_1140         6  143.576705  148.055871"
      ]
     },
     "execution_count": 614,
     "metadata": {},
     "output_type": "execute_result"
    }
   ],
   "source": [
    "X = np.vstack([df_sample['SeedDiff'],df_sample['OvsD'],df_sample['DvsO']]).T\n",
    "preds=logistic_reg.predict_proba(X)[:,1]\n",
    "\n",
    "clipped_preds = np.clip(preds, 0.02, 0.98)\n",
    "df_sample['Pred'] = clipped_preds\n",
    "df_sample.head()"
   ]
  },
  {
   "cell_type": "code",
   "execution_count": 615,
   "metadata": {
    "collapsed": true
   },
   "outputs": [],
   "source": [
    "df_out = pd.read_csv('Data/SampleSubmissionStage1.csv')\n",
    "\n",
    "df_out['Pred'] = df_sample['Pred']\n",
    "df_out.to_csv('logreg_seed_pts.csv', index=False)"
   ]
  },
  {
   "cell_type": "code",
   "execution_count": null,
   "metadata": {
    "collapsed": true
   },
   "outputs": [],
   "source": []
  }
 ],
 "metadata": {
  "kernelspec": {
   "display_name": "Python 3",
   "language": "python",
   "name": "python3"
  },
  "language_info": {
   "codemirror_mode": {
    "name": "ipython",
    "version": 3
   },
   "file_extension": ".py",
   "mimetype": "text/x-python",
   "name": "python",
   "nbconvert_exporter": "python",
   "pygments_lexer": "ipython3",
   "version": "3.6.1"
  }
 },
 "nbformat": 4,
 "nbformat_minor": 2
}
